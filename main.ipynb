{
 "cells": [
  {
   "cell_type": "markdown",
   "metadata": {},
   "source": [
    "# [01] CPI Forecast\n",
    "\n",
    "CPI stands for Consumer Price Index, which reflects the rise in prices in the national economy. Polish CPI (and other indices like HICP) is calculate by Statistics Poland (Central Statistical Office, pl. Główny Urząd Statystyczny). Many of them are reported to Eurostat. Recently, the CPI in Poland establishes new ATH, drawing the attention of citizens to the economic situation of the country. The analysis below is an example of application of ML tools for prediction of time series like Polish CPI. \n",
    "\n",
    "CPI is often confused with a money creation by central bank. In Poland, this belief may result from the experience of hyperinflation by citizens in the 1980s, which was actually caused by the printing of money by the central bank of PRL (predecessor of Republic of Poland). In fact, the relationship of the CPI to money creation is very complex and is not subject to analysis.\n",
    "\n",
    "[Clarification on inflation in official statistics (PL).](https://stat.gov.pl/files/gfx/portalinformacyjny/pl/defaultaktualnosci/5464/18/1/1/co_warto_wiedziec_o_inflacji.pdf)"
   ]
  },
  {
   "cell_type": "code",
   "execution_count": 31,
   "metadata": {},
   "outputs": [],
   "source": [
    "# Project initialization\n",
    "from warnings import simplefilter\n",
    "simplefilter(\"ignore\")\n",
    "\n",
    "import pandas as pd\n",
    "from datetime import datetime\n",
    "import plotly.express as px"
   ]
  },
  {
   "cell_type": "markdown",
   "metadata": {},
   "source": [
    "## Polish CPI dataset"
   ]
  },
  {
   "cell_type": "markdown",
   "metadata": {},
   "source": [
    "The dataset was obtained from Macroeconomic Data Bank (pl. Bank Danych Makroekonomicznych), which is created by Statistic Poland. Dataset contains set of price indices monthly reported between january 2000 and september 2021. The column \"Wskaźnik\" contains name of index, column \"Jednostka\" type of vaule (corresponding month of the previous year or previous month). Next columns contains values reported in next months beginning from 2000-01. Indices can be calculated in different categories (column Category) or in general (Category=NaN)."
   ]
  },
  {
   "cell_type": "code",
   "execution_count": 8,
   "metadata": {},
   "outputs": [
    {
     "data": {
      "text/html": [
       "<div>\n",
       "<style scoped>\n",
       "    .dataframe tbody tr th:only-of-type {\n",
       "        vertical-align: middle;\n",
       "    }\n",
       "\n",
       "    .dataframe tbody tr th {\n",
       "        vertical-align: top;\n",
       "    }\n",
       "\n",
       "    .dataframe thead tr th {\n",
       "        text-align: left;\n",
       "    }\n",
       "</style>\n",
       "<table border=\"1\" class=\"dataframe\">\n",
       "  <thead>\n",
       "    <tr>\n",
       "      <th></th>\n",
       "      <th>Wskaźnik</th>\n",
       "      <th>Category</th>\n",
       "      <th>Jednostka</th>\n",
       "      <th colspan=\"7\" halign=\"left\">2000</th>\n",
       "      <th>...</th>\n",
       "      <th>2020</th>\n",
       "      <th colspan=\"9\" halign=\"left\">2021</th>\n",
       "    </tr>\n",
       "    <tr>\n",
       "      <th></th>\n",
       "      <th>na</th>\n",
       "      <th>na</th>\n",
       "      <th>na</th>\n",
       "      <th>01</th>\n",
       "      <th>02</th>\n",
       "      <th>03</th>\n",
       "      <th>04</th>\n",
       "      <th>05</th>\n",
       "      <th>06</th>\n",
       "      <th>07</th>\n",
       "      <th>...</th>\n",
       "      <th>12</th>\n",
       "      <th>01</th>\n",
       "      <th>02</th>\n",
       "      <th>03</th>\n",
       "      <th>04</th>\n",
       "      <th>05</th>\n",
       "      <th>06</th>\n",
       "      <th>07</th>\n",
       "      <th>08</th>\n",
       "      <th>09</th>\n",
       "    </tr>\n",
       "  </thead>\n",
       "  <tbody>\n",
       "    <tr>\n",
       "      <th>0</th>\n",
       "      <td>Wskaźniki cen skupu pszenicy (bez ziarna siewn...</td>\n",
       "      <td>NaN</td>\n",
       "      <td>analogiczny okres roku poprzedniego=100</td>\n",
       "      <td>123,0</td>\n",
       "      <td>127,8</td>\n",
       "      <td>125,9</td>\n",
       "      <td>125,3</td>\n",
       "      <td>133,4</td>\n",
       "      <td>146,7</td>\n",
       "      <td>146,1</td>\n",
       "      <td>...</td>\n",
       "      <td>121,4</td>\n",
       "      <td>121,7</td>\n",
       "      <td>124,4</td>\n",
       "      <td>126,9</td>\n",
       "      <td>118,0</td>\n",
       "      <td>117,6</td>\n",
       "      <td>119,4</td>\n",
       "      <td>119,7</td>\n",
       "      <td>128,8</td>\n",
       "      <td>136,9</td>\n",
       "    </tr>\n",
       "    <tr>\n",
       "      <th>1</th>\n",
       "      <td>Wskaźniki cen skupu pszenicy (bez ziarna siewn...</td>\n",
       "      <td>NaN</td>\n",
       "      <td>okres poprzedni=100</td>\n",
       "      <td>109,1</td>\n",
       "      <td>102,2</td>\n",
       "      <td>100,6</td>\n",
       "      <td>100,8</td>\n",
       "      <td>108,2</td>\n",
       "      <td>113,5</td>\n",
       "      <td>94,5</td>\n",
       "      <td>...</td>\n",
       "      <td>102,2</td>\n",
       "      <td>104,4</td>\n",
       "      <td>104,4</td>\n",
       "      <td>102,7</td>\n",
       "      <td>100,4</td>\n",
       "      <td>101,4</td>\n",
       "      <td>101,1</td>\n",
       "      <td>88,3</td>\n",
       "      <td>102,8</td>\n",
       "      <td>111,0</td>\n",
       "    </tr>\n",
       "    <tr>\n",
       "      <th>2</th>\n",
       "      <td>Wskaźniki cen skupu żyta (bez ziarna siewnego)</td>\n",
       "      <td>NaN</td>\n",
       "      <td>analogiczny okres roku poprzedniego=100</td>\n",
       "      <td>135,4</td>\n",
       "      <td>135,1</td>\n",
       "      <td>134,7</td>\n",
       "      <td>133,2</td>\n",
       "      <td>138,0</td>\n",
       "      <td>146,1</td>\n",
       "      <td>148,6</td>\n",
       "      <td>...</td>\n",
       "      <td>108,9</td>\n",
       "      <td>112,6</td>\n",
       "      <td>124,2</td>\n",
       "      <td>131,2</td>\n",
       "      <td>129,0</td>\n",
       "      <td>127,2</td>\n",
       "      <td>133,2</td>\n",
       "      <td>124,8</td>\n",
       "      <td>135,9</td>\n",
       "      <td>136,9</td>\n",
       "    </tr>\n",
       "    <tr>\n",
       "      <th>3</th>\n",
       "      <td>Wskaźniki cen skupu żyta (bez ziarna siewnego)</td>\n",
       "      <td>NaN</td>\n",
       "      <td>okres poprzedni=100</td>\n",
       "      <td>108,0</td>\n",
       "      <td>101,1</td>\n",
       "      <td>99,5</td>\n",
       "      <td>98,9</td>\n",
       "      <td>103,9</td>\n",
       "      <td>106,5</td>\n",
       "      <td>91,7</td>\n",
       "      <td>...</td>\n",
       "      <td>105,5</td>\n",
       "      <td>105,4</td>\n",
       "      <td>103,9</td>\n",
       "      <td>106,9</td>\n",
       "      <td>103,4</td>\n",
       "      <td>101,0</td>\n",
       "      <td>105,9</td>\n",
       "      <td>84,6</td>\n",
       "      <td>100,5</td>\n",
       "      <td>110,7</td>\n",
       "    </tr>\n",
       "    <tr>\n",
       "      <th>4</th>\n",
       "      <td>Wskaźniki cen skupu bydła (bez cieląt)</td>\n",
       "      <td>NaN</td>\n",
       "      <td>analogiczny okres roku poprzedniego=100</td>\n",
       "      <td>102,2</td>\n",
       "      <td>103,2</td>\n",
       "      <td>104,3</td>\n",
       "      <td>106,3</td>\n",
       "      <td>108,2</td>\n",
       "      <td>111,6</td>\n",
       "      <td>114,2</td>\n",
       "      <td>...</td>\n",
       "      <td>104,5</td>\n",
       "      <td>101,2</td>\n",
       "      <td>108,2</td>\n",
       "      <td>110,0</td>\n",
       "      <td>117,5</td>\n",
       "      <td>116,6</td>\n",
       "      <td>119,3</td>\n",
       "      <td>117,9</td>\n",
       "      <td>127,5</td>\n",
       "      <td>126,6</td>\n",
       "    </tr>\n",
       "  </tbody>\n",
       "</table>\n",
       "<p>5 rows × 264 columns</p>\n",
       "</div>"
      ],
      "text/plain": [
       "                                            Wskaźnik Category  \\\n",
       "                                                  na       na   \n",
       "0  Wskaźniki cen skupu pszenicy (bez ziarna siewn...      NaN   \n",
       "1  Wskaźniki cen skupu pszenicy (bez ziarna siewn...      NaN   \n",
       "2     Wskaźniki cen skupu żyta (bez ziarna siewnego)      NaN   \n",
       "3     Wskaźniki cen skupu żyta (bez ziarna siewnego)      NaN   \n",
       "4             Wskaźniki cen skupu bydła (bez cieląt)      NaN   \n",
       "\n",
       "                                 Jednostka   2000                              \\\n",
       "                                        na     01     02     03     04     05   \n",
       "0  analogiczny okres roku poprzedniego=100  123,0  127,8  125,9  125,3  133,4   \n",
       "1                      okres poprzedni=100  109,1  102,2  100,6  100,8  108,2   \n",
       "2  analogiczny okres roku poprzedniego=100  135,4  135,1  134,7  133,2  138,0   \n",
       "3                      okres poprzedni=100  108,0  101,1   99,5   98,9  103,9   \n",
       "4  analogiczny okres roku poprzedniego=100  102,2  103,2  104,3  106,3  108,2   \n",
       "\n",
       "                 ...   2020   2021                                            \\\n",
       "      06     07  ...     12     01     02     03     04     05     06     07   \n",
       "0  146,7  146,1  ...  121,4  121,7  124,4  126,9  118,0  117,6  119,4  119,7   \n",
       "1  113,5   94,5  ...  102,2  104,4  104,4  102,7  100,4  101,4  101,1   88,3   \n",
       "2  146,1  148,6  ...  108,9  112,6  124,2  131,2  129,0  127,2  133,2  124,8   \n",
       "3  106,5   91,7  ...  105,5  105,4  103,9  106,9  103,4  101,0  105,9   84,6   \n",
       "4  111,6  114,2  ...  104,5  101,2  108,2  110,0  117,5  116,6  119,3  117,9   \n",
       "\n",
       "                 \n",
       "      08     09  \n",
       "0  128,8  136,9  \n",
       "1  102,8  111,0  \n",
       "2  135,9  136,9  \n",
       "3  100,5  110,7  \n",
       "4  127,5  126,6  \n",
       "\n",
       "[5 rows x 264 columns]"
      ]
     },
     "execution_count": 8,
     "metadata": {},
     "output_type": "execute_result"
    }
   ],
   "source": [
    "dataset = pd.read_csv(\n",
    "        'dataset/wskazniki_cen_miesieczne.csv', \n",
    "        delimiter=\";\", \n",
    "        header=[0,1]\n",
    "    ).rename(\n",
    "        columns={\n",
    "            '\\ufeffWskaźnik': 'Wskaźnik',\n",
    "            'Unnamed: 0_level_1': 'na',\n",
    "            'Unnamed: 1_level_0': 'Category',\n",
    "            'Unnamed: 1_level_1': 'na',\n",
    "            'Unnamed: 2_level_1': 'na'\n",
    "        }\n",
    "    )\n",
    "dataset.head()"
   ]
  },
  {
   "cell_type": "markdown",
   "metadata": {},
   "source": [
    "The next step is to extract CPI from indices with Category=NaN for \"previous month\"."
   ]
  },
  {
   "cell_type": "code",
   "execution_count": 10,
   "metadata": {},
   "outputs": [
    {
     "data": {
      "text/html": [
       "<div>\n",
       "<style scoped>\n",
       "    .dataframe tbody tr th:only-of-type {\n",
       "        vertical-align: middle;\n",
       "    }\n",
       "\n",
       "    .dataframe tbody tr th {\n",
       "        vertical-align: top;\n",
       "    }\n",
       "\n",
       "    .dataframe thead tr th {\n",
       "        text-align: left;\n",
       "    }\n",
       "</style>\n",
       "<table border=\"1\" class=\"dataframe\">\n",
       "  <thead>\n",
       "    <tr>\n",
       "      <th></th>\n",
       "      <th colspan=\"10\" halign=\"left\">2000</th>\n",
       "      <th>...</th>\n",
       "      <th>2020</th>\n",
       "      <th colspan=\"9\" halign=\"left\">2021</th>\n",
       "    </tr>\n",
       "    <tr>\n",
       "      <th></th>\n",
       "      <th>01</th>\n",
       "      <th>02</th>\n",
       "      <th>03</th>\n",
       "      <th>04</th>\n",
       "      <th>05</th>\n",
       "      <th>06</th>\n",
       "      <th>07</th>\n",
       "      <th>08</th>\n",
       "      <th>09</th>\n",
       "      <th>10</th>\n",
       "      <th>...</th>\n",
       "      <th>12</th>\n",
       "      <th>01</th>\n",
       "      <th>02</th>\n",
       "      <th>03</th>\n",
       "      <th>04</th>\n",
       "      <th>05</th>\n",
       "      <th>06</th>\n",
       "      <th>07</th>\n",
       "      <th>08</th>\n",
       "      <th>09</th>\n",
       "    </tr>\n",
       "  </thead>\n",
       "  <tbody>\n",
       "    <tr>\n",
       "      <th>36</th>\n",
       "      <td>101,8</td>\n",
       "      <td>100,9</td>\n",
       "      <td>100,9</td>\n",
       "      <td>100,4</td>\n",
       "      <td>100,7</td>\n",
       "      <td>100,8</td>\n",
       "      <td>100,7</td>\n",
       "      <td>99,7</td>\n",
       "      <td>101,0</td>\n",
       "      <td>100,8</td>\n",
       "      <td>...</td>\n",
       "      <td>100,1</td>\n",
       "      <td>101,3</td>\n",
       "      <td>100,5</td>\n",
       "      <td>101,0</td>\n",
       "      <td>100,8</td>\n",
       "      <td>100,3</td>\n",
       "      <td>100,1</td>\n",
       "      <td>100,4</td>\n",
       "      <td>100,3</td>\n",
       "      <td>100,7</td>\n",
       "    </tr>\n",
       "  </tbody>\n",
       "</table>\n",
       "<p>1 rows × 261 columns</p>\n",
       "</div>"
      ],
      "text/plain": [
       "     2000                                                                ...  \\\n",
       "       01     02     03     04     05     06     07    08     09     10  ...   \n",
       "36  101,8  100,9  100,9  100,4  100,7  100,8  100,7  99,7  101,0  100,8  ...   \n",
       "\n",
       "     2020   2021                                                          \n",
       "       12     01     02     03     04     05     06     07     08     09  \n",
       "36  100,1  101,3  100,5  101,0  100,8  100,3  100,1  100,4  100,3  100,7  \n",
       "\n",
       "[1 rows x 261 columns]"
      ]
     },
     "execution_count": 10,
     "metadata": {},
     "output_type": "execute_result"
    }
   ],
   "source": [
    "CPI_dataset = dataset[\n",
    "    (dataset[('Wskaźnik','na')] == 'Wskaźniki cen towarów i usług konsumpcyjnych') # CPI \n",
    "    & (dataset[('Category','na')].isna()) # general calculation\n",
    "    & (dataset[('Jednostka','na')] == 'okres poprzedni=100') # previous month\n",
    "].drop(\n",
    "    columns={\n",
    "        ('Wskaźnik','na'),\n",
    "        ('Category','na'),\n",
    "        ('Jednostka','na')\n",
    "    }\n",
    ")\n",
    "CPI_dataset.head()"
   ]
  },
  {
   "cell_type": "markdown",
   "metadata": {},
   "source": [
    "Time to create time series from data."
   ]
  },
  {
   "cell_type": "code",
   "execution_count": 26,
   "metadata": {},
   "outputs": [
    {
     "data": {
      "text/html": [
       "<div>\n",
       "<style scoped>\n",
       "    .dataframe tbody tr th:only-of-type {\n",
       "        vertical-align: middle;\n",
       "    }\n",
       "\n",
       "    .dataframe tbody tr th {\n",
       "        vertical-align: top;\n",
       "    }\n",
       "\n",
       "    .dataframe thead th {\n",
       "        text-align: right;\n",
       "    }\n",
       "</style>\n",
       "<table border=\"1\" class=\"dataframe\">\n",
       "  <thead>\n",
       "    <tr style=\"text-align: right;\">\n",
       "      <th></th>\n",
       "      <th>value</th>\n",
       "    </tr>\n",
       "    <tr>\n",
       "      <th>time</th>\n",
       "      <th></th>\n",
       "    </tr>\n",
       "  </thead>\n",
       "  <tbody>\n",
       "    <tr>\n",
       "      <th>2000-01-01</th>\n",
       "      <td>101.8</td>\n",
       "    </tr>\n",
       "    <tr>\n",
       "      <th>2000-02-01</th>\n",
       "      <td>100.9</td>\n",
       "    </tr>\n",
       "    <tr>\n",
       "      <th>2000-03-01</th>\n",
       "      <td>100.9</td>\n",
       "    </tr>\n",
       "    <tr>\n",
       "      <th>2000-04-01</th>\n",
       "      <td>100.4</td>\n",
       "    </tr>\n",
       "    <tr>\n",
       "      <th>2000-05-01</th>\n",
       "      <td>100.7</td>\n",
       "    </tr>\n",
       "  </tbody>\n",
       "</table>\n",
       "</div>"
      ],
      "text/plain": [
       "            value\n",
       "time             \n",
       "2000-01-01  101.8\n",
       "2000-02-01  100.9\n",
       "2000-03-01  100.9\n",
       "2000-04-01  100.4\n",
       "2000-05-01  100.7"
      ]
     },
     "execution_count": 26,
     "metadata": {},
     "output_type": "execute_result"
    }
   ],
   "source": [
    "# transpose dataframe\n",
    "CPI_dataset_transposed = CPI_dataset.T.rename(\n",
    "        columns={36:'value'} # rename value column\n",
    "    )\n",
    "# convert string values to float (remove ',')\n",
    "CPI_dataset_transposed = CPI_dataset_transposed.assign(\n",
    "    value = CPI_dataset_transposed['value'].map(lambda x: float(x.replace(',','.')))\n",
    ")\n",
    "# create timestamp from index\n",
    "CPI_relative_to_previous_month = CPI_dataset_transposed.assign(\n",
    "    time = CPI_dataset_transposed.index.map(\n",
    "        lambda index_value: datetime.strptime(index_value[0]+'-'+index_value[1]+'-01','%Y-%m-%d')\n",
    "    )\n",
    ").set_index('time')\n",
    "CPI_relative_to_previous_month.head()\n"
   ]
  },
  {
   "cell_type": "markdown",
   "metadata": {},
   "source": [
    "In this moment each value is related to previous. For better imaginary of the trend, it should be absolute. (Or related to one point, in this case december 1999.)"
   ]
  },
  {
   "cell_type": "code",
   "execution_count": 27,
   "metadata": {},
   "outputs": [
    {
     "data": {
      "text/html": [
       "<div>\n",
       "<style scoped>\n",
       "    .dataframe tbody tr th:only-of-type {\n",
       "        vertical-align: middle;\n",
       "    }\n",
       "\n",
       "    .dataframe tbody tr th {\n",
       "        vertical-align: top;\n",
       "    }\n",
       "\n",
       "    .dataframe thead th {\n",
       "        text-align: right;\n",
       "    }\n",
       "</style>\n",
       "<table border=\"1\" class=\"dataframe\">\n",
       "  <thead>\n",
       "    <tr style=\"text-align: right;\">\n",
       "      <th></th>\n",
       "      <th>value</th>\n",
       "    </tr>\n",
       "    <tr>\n",
       "      <th>time</th>\n",
       "      <th></th>\n",
       "    </tr>\n",
       "  </thead>\n",
       "  <tbody>\n",
       "    <tr>\n",
       "      <th>2000-01-01</th>\n",
       "      <td>101.800000</td>\n",
       "    </tr>\n",
       "    <tr>\n",
       "      <th>2000-02-01</th>\n",
       "      <td>102.716200</td>\n",
       "    </tr>\n",
       "    <tr>\n",
       "      <th>2000-03-01</th>\n",
       "      <td>103.640646</td>\n",
       "    </tr>\n",
       "    <tr>\n",
       "      <th>2000-04-01</th>\n",
       "      <td>104.055208</td>\n",
       "    </tr>\n",
       "    <tr>\n",
       "      <th>2000-05-01</th>\n",
       "      <td>104.783595</td>\n",
       "    </tr>\n",
       "  </tbody>\n",
       "</table>\n",
       "</div>"
      ],
      "text/plain": [
       "                 value\n",
       "time                  \n",
       "2000-01-01  101.800000\n",
       "2000-02-01  102.716200\n",
       "2000-03-01  103.640646\n",
       "2000-04-01  104.055208\n",
       "2000-05-01  104.783595"
      ]
     },
     "execution_count": 27,
     "metadata": {},
     "output_type": "execute_result"
    }
   ],
   "source": [
    "CPI_absolute = CPI_relative_to_previous_month.copy()\n",
    "\n",
    "_last_value = 100\n",
    "for row in CPI_absolute.iterrows():\n",
    "    _last_value = row[1]['value']/100 * _last_value\n",
    "    CPI_absolute.loc[row[0],'value'] = _last_value\n",
    "\n",
    "CPI_absolute.head()"
   ]
  },
  {
   "cell_type": "markdown",
   "metadata": {},
   "source": [
    "Lets see the CPI timeseries."
   ]
  },
  {
   "cell_type": "code",
   "execution_count": 42,
   "metadata": {},
   "outputs": [
    {
     "data": {
      "application/vnd.plotly.v1+json": {
       "config": {
        "plotlyServerURL": "https://plot.ly"
       },
       "data": [
        {
         "hovertemplate": "variable=value<br>Months=%{x}<br>100 = CPI in december of 1999=%{y}<extra></extra>",
         "legendgroup": "value",
         "line": {
          "color": "#636efa",
          "dash": "solid"
         },
         "marker": {
          "symbol": "circle"
         },
         "mode": "lines",
         "name": "value",
         "orientation": "v",
         "showlegend": true,
         "type": "scatter",
         "x": [
          "2000-01-01T00:00:00",
          "2000-02-01T00:00:00",
          "2000-03-01T00:00:00",
          "2000-04-01T00:00:00",
          "2000-05-01T00:00:00",
          "2000-06-01T00:00:00",
          "2000-07-01T00:00:00",
          "2000-08-01T00:00:00",
          "2000-09-01T00:00:00",
          "2000-10-01T00:00:00",
          "2000-11-01T00:00:00",
          "2000-12-01T00:00:00",
          "2001-01-01T00:00:00",
          "2001-02-01T00:00:00",
          "2001-03-01T00:00:00",
          "2001-04-01T00:00:00",
          "2001-05-01T00:00:00",
          "2001-06-01T00:00:00",
          "2001-07-01T00:00:00",
          "2001-08-01T00:00:00",
          "2001-09-01T00:00:00",
          "2001-10-01T00:00:00",
          "2001-11-01T00:00:00",
          "2001-12-01T00:00:00",
          "2002-01-01T00:00:00",
          "2002-02-01T00:00:00",
          "2002-03-01T00:00:00",
          "2002-04-01T00:00:00",
          "2002-05-01T00:00:00",
          "2002-06-01T00:00:00",
          "2002-07-01T00:00:00",
          "2002-08-01T00:00:00",
          "2002-09-01T00:00:00",
          "2002-10-01T00:00:00",
          "2002-11-01T00:00:00",
          "2002-12-01T00:00:00",
          "2003-01-01T00:00:00",
          "2003-02-01T00:00:00",
          "2003-03-01T00:00:00",
          "2003-04-01T00:00:00",
          "2003-05-01T00:00:00",
          "2003-06-01T00:00:00",
          "2003-07-01T00:00:00",
          "2003-08-01T00:00:00",
          "2003-09-01T00:00:00",
          "2003-10-01T00:00:00",
          "2003-11-01T00:00:00",
          "2003-12-01T00:00:00",
          "2004-01-01T00:00:00",
          "2004-02-01T00:00:00",
          "2004-03-01T00:00:00",
          "2004-04-01T00:00:00",
          "2004-05-01T00:00:00",
          "2004-06-01T00:00:00",
          "2004-07-01T00:00:00",
          "2004-08-01T00:00:00",
          "2004-09-01T00:00:00",
          "2004-10-01T00:00:00",
          "2004-11-01T00:00:00",
          "2004-12-01T00:00:00",
          "2005-01-01T00:00:00",
          "2005-02-01T00:00:00",
          "2005-03-01T00:00:00",
          "2005-04-01T00:00:00",
          "2005-05-01T00:00:00",
          "2005-06-01T00:00:00",
          "2005-07-01T00:00:00",
          "2005-08-01T00:00:00",
          "2005-09-01T00:00:00",
          "2005-10-01T00:00:00",
          "2005-11-01T00:00:00",
          "2005-12-01T00:00:00",
          "2006-01-01T00:00:00",
          "2006-02-01T00:00:00",
          "2006-03-01T00:00:00",
          "2006-04-01T00:00:00",
          "2006-05-01T00:00:00",
          "2006-06-01T00:00:00",
          "2006-07-01T00:00:00",
          "2006-08-01T00:00:00",
          "2006-09-01T00:00:00",
          "2006-10-01T00:00:00",
          "2006-11-01T00:00:00",
          "2006-12-01T00:00:00",
          "2007-01-01T00:00:00",
          "2007-02-01T00:00:00",
          "2007-03-01T00:00:00",
          "2007-04-01T00:00:00",
          "2007-05-01T00:00:00",
          "2007-06-01T00:00:00",
          "2007-07-01T00:00:00",
          "2007-08-01T00:00:00",
          "2007-09-01T00:00:00",
          "2007-10-01T00:00:00",
          "2007-11-01T00:00:00",
          "2007-12-01T00:00:00",
          "2008-01-01T00:00:00",
          "2008-02-01T00:00:00",
          "2008-03-01T00:00:00",
          "2008-04-01T00:00:00",
          "2008-05-01T00:00:00",
          "2008-06-01T00:00:00",
          "2008-07-01T00:00:00",
          "2008-08-01T00:00:00",
          "2008-09-01T00:00:00",
          "2008-10-01T00:00:00",
          "2008-11-01T00:00:00",
          "2008-12-01T00:00:00",
          "2009-01-01T00:00:00",
          "2009-02-01T00:00:00",
          "2009-03-01T00:00:00",
          "2009-04-01T00:00:00",
          "2009-05-01T00:00:00",
          "2009-06-01T00:00:00",
          "2009-07-01T00:00:00",
          "2009-08-01T00:00:00",
          "2009-09-01T00:00:00",
          "2009-10-01T00:00:00",
          "2009-11-01T00:00:00",
          "2009-12-01T00:00:00",
          "2010-01-01T00:00:00",
          "2010-02-01T00:00:00",
          "2010-03-01T00:00:00",
          "2010-04-01T00:00:00",
          "2010-05-01T00:00:00",
          "2010-06-01T00:00:00",
          "2010-07-01T00:00:00",
          "2010-08-01T00:00:00",
          "2010-09-01T00:00:00",
          "2010-10-01T00:00:00",
          "2010-11-01T00:00:00",
          "2010-12-01T00:00:00",
          "2011-01-01T00:00:00",
          "2011-02-01T00:00:00",
          "2011-03-01T00:00:00",
          "2011-04-01T00:00:00",
          "2011-05-01T00:00:00",
          "2011-06-01T00:00:00",
          "2011-07-01T00:00:00",
          "2011-08-01T00:00:00",
          "2011-09-01T00:00:00",
          "2011-10-01T00:00:00",
          "2011-11-01T00:00:00",
          "2011-12-01T00:00:00",
          "2012-01-01T00:00:00",
          "2012-02-01T00:00:00",
          "2012-03-01T00:00:00",
          "2012-04-01T00:00:00",
          "2012-05-01T00:00:00",
          "2012-06-01T00:00:00",
          "2012-07-01T00:00:00",
          "2012-08-01T00:00:00",
          "2012-09-01T00:00:00",
          "2012-10-01T00:00:00",
          "2012-11-01T00:00:00",
          "2012-12-01T00:00:00",
          "2013-01-01T00:00:00",
          "2013-02-01T00:00:00",
          "2013-03-01T00:00:00",
          "2013-04-01T00:00:00",
          "2013-05-01T00:00:00",
          "2013-06-01T00:00:00",
          "2013-07-01T00:00:00",
          "2013-08-01T00:00:00",
          "2013-09-01T00:00:00",
          "2013-10-01T00:00:00",
          "2013-11-01T00:00:00",
          "2013-12-01T00:00:00",
          "2014-01-01T00:00:00",
          "2014-02-01T00:00:00",
          "2014-03-01T00:00:00",
          "2014-04-01T00:00:00",
          "2014-05-01T00:00:00",
          "2014-06-01T00:00:00",
          "2014-07-01T00:00:00",
          "2014-08-01T00:00:00",
          "2014-09-01T00:00:00",
          "2014-10-01T00:00:00",
          "2014-11-01T00:00:00",
          "2014-12-01T00:00:00",
          "2015-01-01T00:00:00",
          "2015-02-01T00:00:00",
          "2015-03-01T00:00:00",
          "2015-04-01T00:00:00",
          "2015-05-01T00:00:00",
          "2015-06-01T00:00:00",
          "2015-07-01T00:00:00",
          "2015-08-01T00:00:00",
          "2015-09-01T00:00:00",
          "2015-10-01T00:00:00",
          "2015-11-01T00:00:00",
          "2015-12-01T00:00:00",
          "2016-01-01T00:00:00",
          "2016-02-01T00:00:00",
          "2016-03-01T00:00:00",
          "2016-04-01T00:00:00",
          "2016-05-01T00:00:00",
          "2016-06-01T00:00:00",
          "2016-07-01T00:00:00",
          "2016-08-01T00:00:00",
          "2016-09-01T00:00:00",
          "2016-10-01T00:00:00",
          "2016-11-01T00:00:00",
          "2016-12-01T00:00:00",
          "2017-01-01T00:00:00",
          "2017-02-01T00:00:00",
          "2017-03-01T00:00:00",
          "2017-04-01T00:00:00",
          "2017-05-01T00:00:00",
          "2017-06-01T00:00:00",
          "2017-07-01T00:00:00",
          "2017-08-01T00:00:00",
          "2017-09-01T00:00:00",
          "2017-10-01T00:00:00",
          "2017-11-01T00:00:00",
          "2017-12-01T00:00:00",
          "2018-01-01T00:00:00",
          "2018-02-01T00:00:00",
          "2018-03-01T00:00:00",
          "2018-04-01T00:00:00",
          "2018-05-01T00:00:00",
          "2018-06-01T00:00:00",
          "2018-07-01T00:00:00",
          "2018-08-01T00:00:00",
          "2018-09-01T00:00:00",
          "2018-10-01T00:00:00",
          "2018-11-01T00:00:00",
          "2018-12-01T00:00:00",
          "2019-01-01T00:00:00",
          "2019-02-01T00:00:00",
          "2019-03-01T00:00:00",
          "2019-04-01T00:00:00",
          "2019-05-01T00:00:00",
          "2019-06-01T00:00:00",
          "2019-07-01T00:00:00",
          "2019-08-01T00:00:00",
          "2019-09-01T00:00:00",
          "2019-10-01T00:00:00",
          "2019-11-01T00:00:00",
          "2019-12-01T00:00:00",
          "2020-01-01T00:00:00",
          "2020-02-01T00:00:00",
          "2020-03-01T00:00:00",
          "2020-04-01T00:00:00",
          "2020-05-01T00:00:00",
          "2020-06-01T00:00:00",
          "2020-07-01T00:00:00",
          "2020-08-01T00:00:00",
          "2020-09-01T00:00:00",
          "2020-10-01T00:00:00",
          "2020-11-01T00:00:00",
          "2020-12-01T00:00:00",
          "2021-01-01T00:00:00",
          "2021-02-01T00:00:00",
          "2021-03-01T00:00:00",
          "2021-04-01T00:00:00",
          "2021-05-01T00:00:00",
          "2021-06-01T00:00:00",
          "2021-07-01T00:00:00",
          "2021-08-01T00:00:00",
          "2021-09-01T00:00:00"
         ],
         "xaxis": "x",
         "y": [
          101.8,
          102.71620000000001,
          103.64064580000003,
          104.05520838320002,
          104.78359484188243,
          105.62186360061749,
          106.36121664582183,
          106.04213299588436,
          107.1025543258432,
          107.95937476044995,
          108.39121225949175,
          108.60799468401073,
          109.47685864148282,
          109.58633550012429,
          110.1342671776249,
          111.0153413150459,
          112.2365100695114,
          112.1242735594419,
          111.78790073876358,
          111.4525370365473,
          111.78689464765692,
          112.23404222624755,
          112.34627626847379,
          112.57096882101074,
          113.47153657157882,
          113.58500810815039,
          113.8121781243667,
          114.38123901498852,
          114.15247653695855,
          113.69586663081071,
          113.12738729765665,
          112.67487774846603,
          113.01290238171141,
          113.35194108885653,
          113.23858914776768,
          113.35182773691544,
          113.8052350478631,
          113.91904028291096,
          114.26079740375968,
          114.4893189985672,
          114.4893189985672,
          114.37482967956865,
          113.91733036085037,
          113.46166103940698,
          114.028969344604,
          114.71314316067162,
          115.05728259015362,
          115.28739715533392,
          115.74854674395526,
          115.8642952906992,
          116.21188817657129,
          117.14158328198387,
          118.31299911480372,
          119.37781610683696,
          119.25843829073014,
          118.78140453756721,
          119.1377487511799,
          119.85257524368699,
          120.21213296941804,
          120.33234510238744,
          120.4526774474898,
          120.33222477004233,
          120.45255699481235,
          120.93436722279161,
          121.29717032445997,
          121.05457598381105,
          120.81246683184342,
          120.69165436501159,
          121.17442098247163,
          121.65911866640151,
          121.41580042906871,
          121.17296882821057,
          121.415314765867,
          121.415314765867,
          121.29389945110114,
          122.14295674725886,
          122.75367153099515,
          122.38541051640216,
          122.38541051640216,
          122.75256674795135,
          122.99807188144725,
          123.12106995332869,
          123.12106995332869,
          122.87482781342203,
          123.36632712467572,
          123.73642610604973,
          124.35510823657997,
          124.97688377776285,
          125.60176819665165,
          125.60176819665165,
          125.2249628920617,
          124.72406304049345,
          125.7218555448174,
          126.47618667808631,
          127.36151998483292,
          127.7436045447874,
          128.63780977660093,
          129.15236101570733,
          129.66897045977015,
          130.18764634160922,
          131.2291475123421,
          131.4916058073668,
          131.4916058073668,
          130.96563938413732,
          131.3585363022897,
          131.88397044749885,
          132.14773838839386,
          132.0155906500055,
          132.6756686032555,
          133.86974962068481,
          134.80683786802962,
          135.75048573310585,
          136.42923816177137,
          136.7020966380949,
          136.838798734733,
          136.29144353979405,
          136.29144353979405,
          136.42773498333383,
          136.83701818828382,
          136.83701818828382,
          137.65804029741352,
          137.93335637800834,
          138.34715644714234,
          138.9005450729309,
          139.31724670814967,
          139.7351984482741,
          139.45572805137755,
          138.89790513917202,
          139.73129257000707,
          140.42994903285708,
          140.57037898188992,
          141.13266049781748,
          142.8262524237913,
          143.11190492863886,
          144.39991207299664,
          145.1219116333616,
          145.99264310316178,
          145.40867253074913,
          144.97244651315688,
          144.97244651315688,
          145.11741895967003,
          146.13324089238773,
          147.15617357863445,
          147.744798272949,
          148.77901186085967,
          149.3741279083031,
          150.1209985478446,
          151.02172453913167,
          151.32376798820994,
          151.62641552418637,
          150.86828344656544,
          150.41567859622575,
          150.56609427482195,
          151.16835865192124,
          151.31952701057315,
          151.4708465375837,
          151.62231738412126,
          151.62231738412126,
          151.9255620188895,
          152.53326426696506,
          152.38073100269813,
          152.38073100269813,
          152.8378731957062,
          152.3793595761191,
          152.53173893569522,
          152.8368024135666,
          152.53112880873948,
          152.6836599375482,
          152.83634359748575,
          152.98917994108322,
          153.1421691210243,
          153.1421691210243,
          152.9890269519033,
          152.9890269519033,
          152.6830488979995,
          152.0723167024075,
          152.0723167024075,
          152.0723167024075,
          151.7681720690027,
          151.3128675527957,
          151.01024181769012,
          150.85923157587243,
          151.1609500390242,
          151.7655938391803,
          151.7655938391803,
          151.7655938391803,
          151.61382824534113,
          151.00737293235977,
          150.55435081356268,
          150.7049051643762,
          150.55420025921185,
          150.25309185869344,
          149.50182639939996,
          149.35232457300057,
          149.50167689757356,
          149.95018192826626,
          150.10013211019452,
          150.40033237441492,
          149.94913137729168,
          149.64923311453708,
          149.64923311453708,
          150.39747928010976,
          150.54787675938985,
          151.6017118967056,
          152.20811874429242,
          152.66474310052527,
          152.51207835742477,
          152.96961459249704,
          152.96961459249704,
          152.66367536331205,
          152.35834801258542,
          152.20598966457285,
          152.81481362323115,
          153.5788876913473,
          154.346782129804,
          154.65547569406363,
          155.1194421211458,
          154.8092032369035,
          154.65439403366662,
          155.42766600383493,
          155.7385213358426,
          155.8942598571784,
          155.58247133746406,
          155.58247133746406,
          155.893636280139,
          156.51721082525955,
          156.51721082525955,
          156.51721082525955,
          156.20417640360904,
          156.8289931092235,
          157.29948008855115,
          159.0297743695252,
          159.34783391826426,
          159.82587742001903,
          159.82587742001903,
          159.82587742001903,
          159.82587742001903,
          160.14552917485906,
          160.30567470403392,
          161.5881201016662,
          163.0424131825812,
          164.1837100748593,
          164.51207749500904,
          164.34756541751403,
          164.018870286679,
          165.00298350839907,
          164.67297754138227,
          164.5083045638409,
          164.8373211729686,
          165.00215849414153,
          165.16716065263566,
          165.3323278132883,
          167.48164807486103,
          168.31905631523531,
          170.00224687838767,
          171.36226485341476,
          171.87635164797499,
          172.04822799962295,
          172.73642091162145,
          173.2546301743563,
          174.4674125855768
         ],
         "yaxis": "y"
        }
       ],
       "layout": {
        "legend": {
         "title": {
          "text": "variable"
         },
         "tracegroupgap": 0
        },
        "showlegend": false,
        "template": {
         "data": {
          "bar": [
           {
            "error_x": {
             "color": "#2a3f5f"
            },
            "error_y": {
             "color": "#2a3f5f"
            },
            "marker": {
             "line": {
              "color": "#E5ECF6",
              "width": 0.5
             },
             "pattern": {
              "fillmode": "overlay",
              "size": 10,
              "solidity": 0.2
             }
            },
            "type": "bar"
           }
          ],
          "barpolar": [
           {
            "marker": {
             "line": {
              "color": "#E5ECF6",
              "width": 0.5
             },
             "pattern": {
              "fillmode": "overlay",
              "size": 10,
              "solidity": 0.2
             }
            },
            "type": "barpolar"
           }
          ],
          "carpet": [
           {
            "aaxis": {
             "endlinecolor": "#2a3f5f",
             "gridcolor": "white",
             "linecolor": "white",
             "minorgridcolor": "white",
             "startlinecolor": "#2a3f5f"
            },
            "baxis": {
             "endlinecolor": "#2a3f5f",
             "gridcolor": "white",
             "linecolor": "white",
             "minorgridcolor": "white",
             "startlinecolor": "#2a3f5f"
            },
            "type": "carpet"
           }
          ],
          "choropleth": [
           {
            "colorbar": {
             "outlinewidth": 0,
             "ticks": ""
            },
            "type": "choropleth"
           }
          ],
          "contour": [
           {
            "colorbar": {
             "outlinewidth": 0,
             "ticks": ""
            },
            "colorscale": [
             [
              0,
              "#0d0887"
             ],
             [
              0.1111111111111111,
              "#46039f"
             ],
             [
              0.2222222222222222,
              "#7201a8"
             ],
             [
              0.3333333333333333,
              "#9c179e"
             ],
             [
              0.4444444444444444,
              "#bd3786"
             ],
             [
              0.5555555555555556,
              "#d8576b"
             ],
             [
              0.6666666666666666,
              "#ed7953"
             ],
             [
              0.7777777777777778,
              "#fb9f3a"
             ],
             [
              0.8888888888888888,
              "#fdca26"
             ],
             [
              1,
              "#f0f921"
             ]
            ],
            "type": "contour"
           }
          ],
          "contourcarpet": [
           {
            "colorbar": {
             "outlinewidth": 0,
             "ticks": ""
            },
            "type": "contourcarpet"
           }
          ],
          "heatmap": [
           {
            "colorbar": {
             "outlinewidth": 0,
             "ticks": ""
            },
            "colorscale": [
             [
              0,
              "#0d0887"
             ],
             [
              0.1111111111111111,
              "#46039f"
             ],
             [
              0.2222222222222222,
              "#7201a8"
             ],
             [
              0.3333333333333333,
              "#9c179e"
             ],
             [
              0.4444444444444444,
              "#bd3786"
             ],
             [
              0.5555555555555556,
              "#d8576b"
             ],
             [
              0.6666666666666666,
              "#ed7953"
             ],
             [
              0.7777777777777778,
              "#fb9f3a"
             ],
             [
              0.8888888888888888,
              "#fdca26"
             ],
             [
              1,
              "#f0f921"
             ]
            ],
            "type": "heatmap"
           }
          ],
          "heatmapgl": [
           {
            "colorbar": {
             "outlinewidth": 0,
             "ticks": ""
            },
            "colorscale": [
             [
              0,
              "#0d0887"
             ],
             [
              0.1111111111111111,
              "#46039f"
             ],
             [
              0.2222222222222222,
              "#7201a8"
             ],
             [
              0.3333333333333333,
              "#9c179e"
             ],
             [
              0.4444444444444444,
              "#bd3786"
             ],
             [
              0.5555555555555556,
              "#d8576b"
             ],
             [
              0.6666666666666666,
              "#ed7953"
             ],
             [
              0.7777777777777778,
              "#fb9f3a"
             ],
             [
              0.8888888888888888,
              "#fdca26"
             ],
             [
              1,
              "#f0f921"
             ]
            ],
            "type": "heatmapgl"
           }
          ],
          "histogram": [
           {
            "marker": {
             "pattern": {
              "fillmode": "overlay",
              "size": 10,
              "solidity": 0.2
             }
            },
            "type": "histogram"
           }
          ],
          "histogram2d": [
           {
            "colorbar": {
             "outlinewidth": 0,
             "ticks": ""
            },
            "colorscale": [
             [
              0,
              "#0d0887"
             ],
             [
              0.1111111111111111,
              "#46039f"
             ],
             [
              0.2222222222222222,
              "#7201a8"
             ],
             [
              0.3333333333333333,
              "#9c179e"
             ],
             [
              0.4444444444444444,
              "#bd3786"
             ],
             [
              0.5555555555555556,
              "#d8576b"
             ],
             [
              0.6666666666666666,
              "#ed7953"
             ],
             [
              0.7777777777777778,
              "#fb9f3a"
             ],
             [
              0.8888888888888888,
              "#fdca26"
             ],
             [
              1,
              "#f0f921"
             ]
            ],
            "type": "histogram2d"
           }
          ],
          "histogram2dcontour": [
           {
            "colorbar": {
             "outlinewidth": 0,
             "ticks": ""
            },
            "colorscale": [
             [
              0,
              "#0d0887"
             ],
             [
              0.1111111111111111,
              "#46039f"
             ],
             [
              0.2222222222222222,
              "#7201a8"
             ],
             [
              0.3333333333333333,
              "#9c179e"
             ],
             [
              0.4444444444444444,
              "#bd3786"
             ],
             [
              0.5555555555555556,
              "#d8576b"
             ],
             [
              0.6666666666666666,
              "#ed7953"
             ],
             [
              0.7777777777777778,
              "#fb9f3a"
             ],
             [
              0.8888888888888888,
              "#fdca26"
             ],
             [
              1,
              "#f0f921"
             ]
            ],
            "type": "histogram2dcontour"
           }
          ],
          "mesh3d": [
           {
            "colorbar": {
             "outlinewidth": 0,
             "ticks": ""
            },
            "type": "mesh3d"
           }
          ],
          "parcoords": [
           {
            "line": {
             "colorbar": {
              "outlinewidth": 0,
              "ticks": ""
             }
            },
            "type": "parcoords"
           }
          ],
          "pie": [
           {
            "automargin": true,
            "type": "pie"
           }
          ],
          "scatter": [
           {
            "marker": {
             "colorbar": {
              "outlinewidth": 0,
              "ticks": ""
             }
            },
            "type": "scatter"
           }
          ],
          "scatter3d": [
           {
            "line": {
             "colorbar": {
              "outlinewidth": 0,
              "ticks": ""
             }
            },
            "marker": {
             "colorbar": {
              "outlinewidth": 0,
              "ticks": ""
             }
            },
            "type": "scatter3d"
           }
          ],
          "scattercarpet": [
           {
            "marker": {
             "colorbar": {
              "outlinewidth": 0,
              "ticks": ""
             }
            },
            "type": "scattercarpet"
           }
          ],
          "scattergeo": [
           {
            "marker": {
             "colorbar": {
              "outlinewidth": 0,
              "ticks": ""
             }
            },
            "type": "scattergeo"
           }
          ],
          "scattergl": [
           {
            "marker": {
             "colorbar": {
              "outlinewidth": 0,
              "ticks": ""
             }
            },
            "type": "scattergl"
           }
          ],
          "scattermapbox": [
           {
            "marker": {
             "colorbar": {
              "outlinewidth": 0,
              "ticks": ""
             }
            },
            "type": "scattermapbox"
           }
          ],
          "scatterpolar": [
           {
            "marker": {
             "colorbar": {
              "outlinewidth": 0,
              "ticks": ""
             }
            },
            "type": "scatterpolar"
           }
          ],
          "scatterpolargl": [
           {
            "marker": {
             "colorbar": {
              "outlinewidth": 0,
              "ticks": ""
             }
            },
            "type": "scatterpolargl"
           }
          ],
          "scatterternary": [
           {
            "marker": {
             "colorbar": {
              "outlinewidth": 0,
              "ticks": ""
             }
            },
            "type": "scatterternary"
           }
          ],
          "surface": [
           {
            "colorbar": {
             "outlinewidth": 0,
             "ticks": ""
            },
            "colorscale": [
             [
              0,
              "#0d0887"
             ],
             [
              0.1111111111111111,
              "#46039f"
             ],
             [
              0.2222222222222222,
              "#7201a8"
             ],
             [
              0.3333333333333333,
              "#9c179e"
             ],
             [
              0.4444444444444444,
              "#bd3786"
             ],
             [
              0.5555555555555556,
              "#d8576b"
             ],
             [
              0.6666666666666666,
              "#ed7953"
             ],
             [
              0.7777777777777778,
              "#fb9f3a"
             ],
             [
              0.8888888888888888,
              "#fdca26"
             ],
             [
              1,
              "#f0f921"
             ]
            ],
            "type": "surface"
           }
          ],
          "table": [
           {
            "cells": {
             "fill": {
              "color": "#EBF0F8"
             },
             "line": {
              "color": "white"
             }
            },
            "header": {
             "fill": {
              "color": "#C8D4E3"
             },
             "line": {
              "color": "white"
             }
            },
            "type": "table"
           }
          ]
         },
         "layout": {
          "annotationdefaults": {
           "arrowcolor": "#2a3f5f",
           "arrowhead": 0,
           "arrowwidth": 1
          },
          "autotypenumbers": "strict",
          "coloraxis": {
           "colorbar": {
            "outlinewidth": 0,
            "ticks": ""
           }
          },
          "colorscale": {
           "diverging": [
            [
             0,
             "#8e0152"
            ],
            [
             0.1,
             "#c51b7d"
            ],
            [
             0.2,
             "#de77ae"
            ],
            [
             0.3,
             "#f1b6da"
            ],
            [
             0.4,
             "#fde0ef"
            ],
            [
             0.5,
             "#f7f7f7"
            ],
            [
             0.6,
             "#e6f5d0"
            ],
            [
             0.7,
             "#b8e186"
            ],
            [
             0.8,
             "#7fbc41"
            ],
            [
             0.9,
             "#4d9221"
            ],
            [
             1,
             "#276419"
            ]
           ],
           "sequential": [
            [
             0,
             "#0d0887"
            ],
            [
             0.1111111111111111,
             "#46039f"
            ],
            [
             0.2222222222222222,
             "#7201a8"
            ],
            [
             0.3333333333333333,
             "#9c179e"
            ],
            [
             0.4444444444444444,
             "#bd3786"
            ],
            [
             0.5555555555555556,
             "#d8576b"
            ],
            [
             0.6666666666666666,
             "#ed7953"
            ],
            [
             0.7777777777777778,
             "#fb9f3a"
            ],
            [
             0.8888888888888888,
             "#fdca26"
            ],
            [
             1,
             "#f0f921"
            ]
           ],
           "sequentialminus": [
            [
             0,
             "#0d0887"
            ],
            [
             0.1111111111111111,
             "#46039f"
            ],
            [
             0.2222222222222222,
             "#7201a8"
            ],
            [
             0.3333333333333333,
             "#9c179e"
            ],
            [
             0.4444444444444444,
             "#bd3786"
            ],
            [
             0.5555555555555556,
             "#d8576b"
            ],
            [
             0.6666666666666666,
             "#ed7953"
            ],
            [
             0.7777777777777778,
             "#fb9f3a"
            ],
            [
             0.8888888888888888,
             "#fdca26"
            ],
            [
             1,
             "#f0f921"
            ]
           ]
          },
          "colorway": [
           "#636efa",
           "#EF553B",
           "#00cc96",
           "#ab63fa",
           "#FFA15A",
           "#19d3f3",
           "#FF6692",
           "#B6E880",
           "#FF97FF",
           "#FECB52"
          ],
          "font": {
           "color": "#2a3f5f"
          },
          "geo": {
           "bgcolor": "white",
           "lakecolor": "white",
           "landcolor": "#E5ECF6",
           "showlakes": true,
           "showland": true,
           "subunitcolor": "white"
          },
          "hoverlabel": {
           "align": "left"
          },
          "hovermode": "closest",
          "mapbox": {
           "style": "light"
          },
          "paper_bgcolor": "white",
          "plot_bgcolor": "#E5ECF6",
          "polar": {
           "angularaxis": {
            "gridcolor": "white",
            "linecolor": "white",
            "ticks": ""
           },
           "bgcolor": "#E5ECF6",
           "radialaxis": {
            "gridcolor": "white",
            "linecolor": "white",
            "ticks": ""
           }
          },
          "scene": {
           "xaxis": {
            "backgroundcolor": "#E5ECF6",
            "gridcolor": "white",
            "gridwidth": 2,
            "linecolor": "white",
            "showbackground": true,
            "ticks": "",
            "zerolinecolor": "white"
           },
           "yaxis": {
            "backgroundcolor": "#E5ECF6",
            "gridcolor": "white",
            "gridwidth": 2,
            "linecolor": "white",
            "showbackground": true,
            "ticks": "",
            "zerolinecolor": "white"
           },
           "zaxis": {
            "backgroundcolor": "#E5ECF6",
            "gridcolor": "white",
            "gridwidth": 2,
            "linecolor": "white",
            "showbackground": true,
            "ticks": "",
            "zerolinecolor": "white"
           }
          },
          "shapedefaults": {
           "line": {
            "color": "#2a3f5f"
           }
          },
          "ternary": {
           "aaxis": {
            "gridcolor": "white",
            "linecolor": "white",
            "ticks": ""
           },
           "baxis": {
            "gridcolor": "white",
            "linecolor": "white",
            "ticks": ""
           },
           "bgcolor": "#E5ECF6",
           "caxis": {
            "gridcolor": "white",
            "linecolor": "white",
            "ticks": ""
           }
          },
          "title": {
           "x": 0.05
          },
          "xaxis": {
           "automargin": true,
           "gridcolor": "white",
           "linecolor": "white",
           "ticks": "",
           "title": {
            "standoff": 15
           },
           "zerolinecolor": "white",
           "zerolinewidth": 2
          },
          "yaxis": {
           "automargin": true,
           "gridcolor": "white",
           "linecolor": "white",
           "ticks": "",
           "title": {
            "standoff": 15
           },
           "zerolinecolor": "white",
           "zerolinewidth": 2
          }
         }
        },
        "title": {
         "text": "CPI in Poland: January 2000 to September 2021"
        },
        "xaxis": {
         "anchor": "y",
         "domain": [
          0,
          1
         ],
         "title": {
          "text": "Months"
         }
        },
        "yaxis": {
         "anchor": "x",
         "domain": [
          0,
          1
         ],
         "title": {
          "text": "100 = CPI in december of 1999"
         }
        }
       }
      }
     },
     "metadata": {},
     "output_type": "display_data"
    }
   ],
   "source": [
    "figure = px.line(CPI_absolute,\n",
    "    title='CPI in Poland: January 2000 to September 2021',\n",
    "    labels = dict(\n",
    "    time = 'Months',\n",
    "    _value ='100 = CPI in december of 1999'\n",
    "    )\n",
    ")\n",
    "figure.update_layout(showlegend=False)\n",
    "figure.show()"
   ]
  }
 ],
 "metadata": {
  "interpreter": {
   "hash": "916dbcbb3f70747c44a77c7bcd40155683ae19c65e1c03b4aa3499c5328201f1"
  },
  "kernelspec": {
   "display_name": "Python 3.8.10 64-bit",
   "language": "python",
   "name": "python3"
  },
  "language_info": {
   "codemirror_mode": {
    "name": "ipython",
    "version": 3
   },
   "file_extension": ".py",
   "mimetype": "text/x-python",
   "name": "python",
   "nbconvert_exporter": "python",
   "pygments_lexer": "ipython3",
   "version": "3.8.10"
  },
  "orig_nbformat": 4
 },
 "nbformat": 4,
 "nbformat_minor": 2
}
